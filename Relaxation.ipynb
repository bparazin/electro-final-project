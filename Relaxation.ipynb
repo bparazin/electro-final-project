{
 "cells": [
  {
   "cell_type": "code",
   "execution_count": 2,
   "metadata": {},
   "outputs": [],
   "source": [
    "import numpy as np\n",
    "import copy\n",
    "import datetime as dt\n",
    "import matplotlib as plt\n",
    "from mpl_toolkits.mplot3d import Axes3D"
   ]
  },
  {
   "cell_type": "code",
   "execution_count": 3,
   "metadata": {},
   "outputs": [],
   "source": [
    "def interval_count(curr, max_val, step, count):\n",
    "    if curr >= max_val:\n",
    "        return count\n",
    "    else:\n",
    "        if step(curr) <= 0:\n",
    "            raise RuntimeError(\"Step function returns non-positive value in range\")\n",
    "        return interval_count(curr + step(curr), max_val, step, count + 1)"
   ]
  },
  {
   "cell_type": "code",
   "execution_count": 4,
   "metadata": {},
   "outputs": [],
   "source": [
    "#This takes in the following data types:\n",
    "# - x_min, x_max, y_min, y_max, z_min, z_max: Either a tuple (position, f(x_1, x_2)), where position is the x, y or z value of the side and the min value is less than the max val and \n",
    "#       f(x_1, x_2) is a function for the potential on that surface in terms of the other 2 variables, or a Nonetype value, representing a side going off to infinity. \n",
    "#       if and sides going of to infinity are used, it's recommended that a log scale be used for that coordinate\n",
    "# - x_interval, y_interval, z_interval: These are functions that take in a real number and return a positive number in the range [v_min, v_max] for v=x,y,z. \n",
    "#       For a given value this function returns how far away in the correpsponding cartesian coordinate the next data point is, meaning if you want more points in one area, the interval\n",
    "#       functions should return a smaller positive value in that area. Default values are functions that return 1, giving uniform scaling.\n",
    "# - inf_val: this is a number of some kind, and represents the arbitrarily large number used to model an infinite side, default value is 100. \n",
    "#       NOTE: if you go higher than you may run into runtime issues\n",
    "def init_space(x_min, x_max, y_min, y_max, z_min, z_max, x_interval = lambda x: 1, y_interval = lambda y: 1, z_interval = lambda z: 1, inf_val = 100):\n",
    "    inf = (inf_val, lambda v, w: 0)\n",
    "    m_inf = (-inf_val, lambda v, w:0)\n",
    "    if x_min == None: x_min = m_inf\n",
    "    if x_max == None: x_max = inf\n",
    "    if y_min == None: y_min = m_inf\n",
    "    if y_max == None: y_max = inf\n",
    "    if z_min == None: z_min = m_inf\n",
    "    if z_max == None: z_max = inf\n",
    "\n",
    "    valnet = np.zeros((interval_count(x_min[0], x_max[0], x_interval, 1),\n",
    "                      interval_count(y_min[0], y_max[0], y_interval, 1), \n",
    "                      interval_count(z_min[0], z_max[0], z_interval, 1)))\n",
    "    \n",
    "    posnet = np.zeros((interval_count(x_min[0], x_max[0], x_interval, 1),\n",
    "                      interval_count(y_min[0], y_max[0], y_interval, 1), \n",
    "                      interval_count(z_min[0], z_max[0], z_interval, 1), 3))\n",
    "    \n",
    "    space = {\"position\": np.copy(posnet), \"value\": np.copy(valnet)}\n",
    "    \n",
    "    #Set the position vectors\n",
    "    for x in range(len(space[\"position\"])):\n",
    "        for y in range(len(space[\"position\"][0])):\n",
    "            for z in range(len(space[\"position\"][0, 0])):\n",
    "                x_val = x_min[0] if x==0 else min(space[\"position\"][x-1, y, z, 0] + x_interval(space[\"position\"][x-1, y, z, 0]), x_max[0])\n",
    "                y_val = y_min[0] if y==0 else min(space[\"position\"][x, y-1, z, 1] + y_interval(space[\"position\"][x, y-1, z, 1]), y_max[0])\n",
    "                z_val = z_min[0] if z==0 else min(space[\"position\"][x, y, z-1, 2] + z_interval(space[\"position\"][x, y, z-1, 2]), z_max[0])\n",
    "                space[\"position\"][x, y, z] = [x_val, y_val, z_val]\n",
    "                \n",
    "    #Set x = x_min[0] and x=x_max[0] sides\n",
    "    for y_i in range(len(space[\"position\"][0])):\n",
    "            for z_i in range(len(space[\"position\"][0, 0])):\n",
    "                space[\"value\"][0, y_i, z_i] = x_min[1](space[\"position\"][0, y_i, z_i, 1], space[\"position\"][0, y_i, z_i, 2])\n",
    "                space[\"value\"][-1, y_i, z_i] = x_max[1](space[\"position\"][-1, y_i, z_i, 1], space[\"position\"][-1, y_i, z_i, 2])\n",
    "                \n",
    "    #Set y_min & y_max sides.\n",
    "    #Note, this method of data storage means the edges and corners of the space get a bit funky because of overlap, but that's fine since they aren't used for future calculations \n",
    "    #and are known values, so you don't need them to be exact.\n",
    "    for x_i in range(len(space[\"position\"])):\n",
    "        for z_i in range(len(space[\"position\"][0, 0])):\n",
    "            space[\"value\"][x_i, 0, z_i] = y_min[1](space[\"position\"][x_i, 0, z_i, 0], space[\"position\"][x_i, 0, z_i, 2])\n",
    "            space[\"value\"][x_i, -1, z_i] = y_max[1](space[\"position\"][x_i, -1, z_i, 0], space[\"position\"][x_i, -1, z_i, 2])\n",
    "            \n",
    "    #Set z_min & z_max sides\n",
    "    for x_i in range(len(space[\"position\"])):\n",
    "        for y_i in range(len(space[\"position\"][0])):\n",
    "            space[\"value\"][x_i, y_i, 0] = z_min[1](space[\"position\"][x_i, y_i, 0, 0], space[\"position\"][x_i, y_i, 0, 1])\n",
    "            space[\"value\"][x_i, y_i, -1] = z_max[1](space[\"position\"][x_i, y_i, -1, 0], space[\"position\"][x_i, y_i, -1, 1])\n",
    "            \n",
    "    return space"
   ]
  },
  {
   "cell_type": "code",
   "execution_count": 5,
   "metadata": {},
   "outputs": [],
   "source": [
    "#This is the actual method where the relaxation is done, it's nice and simple thanks to recursion! Just give it a space (generated by the above function), and the number of \n",
    "#Passes to go over this with the relaxation algorithm\n",
    "def relax_space(space, count):\n",
    "    if count==0: return space\n",
    "    temp = copy.deepcopy(space)\n",
    "    for x in range(1, len(space[\"position\"])-1):\n",
    "        for y in range(1, len(space[\"position\"][0])-1):\n",
    "            for z in range(1, len(space[\"position\"][0, 0])-1):\n",
    "                average = (space[\"value\"][x - 1, y, z] + space[\"value\"][x + 1, y, z] + \n",
    "                           space[\"value\"][x, y - 1, z] + space[\"value\"][x, y + 1, z] + \n",
    "                           space[\"value\"][x, y, z - 1] + space[\"value\"][x, y, z + 1])/6\n",
    "                \n",
    "                temp[\"value\"][x, y, z] = average\n",
    "    return relax_space(temp, count - 1)"
   ]
  },
  {
   "cell_type": "code",
   "execution_count": 6,
   "metadata": {},
   "outputs": [],
   "source": [
    "#This is a function that returns the index of a given position vector since non-uniform scaling can make it hard to find otherwise.\n",
    "def find_position(space, r):\n",
    "    min_dist = None\n",
    "    min_index = None\n",
    "    for x in range(len(space[\"position\"])):\n",
    "        for y in range(len(space[\"position\"][x])):\n",
    "            for z in range(len(space[\"position\"][x, y])):\n",
    "                dist = np.linalg.norm(r-space[\"position\"][x, y, z])\n",
    "                if min_dist == None or dist < min_dist:\n",
    "                    min_dist = dist\n",
    "                    min_index = [x, y, z]\n",
    "    return min_index"
   ]
  },
  {
   "cell_type": "code",
   "execution_count": 7,
   "metadata": {},
   "outputs": [],
   "source": [
    "#This is a function that returns the average error of the relaxation function compared to a given function.\n",
    "def find_error(space, func):\n",
    "    tot_dist = 0\n",
    "    count = 0\n",
    "    for x in range(1, len(space[\"position\"])-1):\n",
    "        for y in range(1, len(space[\"position\"][x])-1):\n",
    "            for z in range(1, len(space[\"position\"][x, y])-1):\n",
    "                dist = space[\"value\"][x,y,z]-func(x, y, z)\n",
    "                tot_dist +=dist\n",
    "                count +=1\n",
    "    return tot_dist/count"
   ]
  },
  {
   "cell_type": "code",
   "execution_count": 12,
   "metadata": {},
   "outputs": [],
   "source": [
    "def test_func(x, y, z):\n",
    "    return 6/np.pi*np.arctan(np.sin(np.pi*y/10)/np.sinh(np.pi*z/10))"
   ]
  },
  {
   "cell_type": "code",
   "execution_count": 11,
   "metadata": {},
   "outputs": [
    {
     "name": "stdout",
     "output_type": "stream",
     "text": [
      "Done in 0:03:23.652970\n"
     ]
    }
   ],
   "source": [
    "test = init_space(None, None ,(0, lambda x,z: 0), (10, lambda x,y: 0), (0, lambda x,y: 3), None, x_interval = lambda x: np.exp(abs(x)/500), z_interval = lambda z: np.exp(abs(z)/500))\n",
    "t1 = dt.datetime.now()\n",
    "result = relax_space(test, 500)\n",
    "print(\"Done in \" + str(dt.datetime.now() - t1))"
   ]
  },
  {
   "cell_type": "code",
   "execution_count": 13,
   "metadata": {},
   "outputs": [
    {
     "data": {
      "text/plain": [
       "-0.0014846344227468422"
      ]
     },
     "execution_count": 13,
     "metadata": {},
     "output_type": "execute_result"
    }
   ],
   "source": [
    "find_error(result, test_func)"
   ]
  },
  {
   "cell_type": "code",
   "execution_count": 25,
   "metadata": {},
   "outputs": [
    {
     "data": {
      "text/plain": [
       "array([[3.00000000e+00, 0.00000000e+00, 0.00000000e+00, ...,\n",
       "        0.00000000e+00, 0.00000000e+00, 0.00000000e+00],\n",
       "       [3.00000000e+00, 1.46823403e+00, 8.45789770e-01, ...,\n",
       "        3.28378138e-15, 1.42900716e-15, 0.00000000e+00],\n",
       "       [3.00000000e+00, 2.02714645e+00, 1.37345096e+00, ...,\n",
       "        6.24612335e-15, 2.71813314e-15, 0.00000000e+00],\n",
       "       ...,\n",
       "       [3.00000000e+00, 2.02714645e+00, 1.37345096e+00, ...,\n",
       "        6.24612335e-15, 2.71813314e-15, 0.00000000e+00],\n",
       "       [3.00000000e+00, 1.46823403e+00, 8.45789770e-01, ...,\n",
       "        3.28378138e-15, 1.42900716e-15, 0.00000000e+00],\n",
       "       [3.00000000e+00, 0.00000000e+00, 0.00000000e+00, ...,\n",
       "        0.00000000e+00, 0.00000000e+00, 0.00000000e+00]])"
      ]
     },
     "execution_count": 25,
     "metadata": {},
     "output_type": "execute_result"
    }
   ],
   "source": [
    "result[\"value\"][91]"
   ]
  },
  {
   "cell_type": "code",
   "execution_count": null,
   "metadata": {},
   "outputs": [],
   "source": []
  }
 ],
 "metadata": {
  "kernelspec": {
   "display_name": "Python 3",
   "language": "python",
   "name": "python3"
  },
  "language_info": {
   "codemirror_mode": {
    "name": "ipython",
    "version": 3
   },
   "file_extension": ".py",
   "mimetype": "text/x-python",
   "name": "python",
   "nbconvert_exporter": "python",
   "pygments_lexer": "ipython3",
   "version": "3.8.5"
  }
 },
 "nbformat": 4,
 "nbformat_minor": 4
}
